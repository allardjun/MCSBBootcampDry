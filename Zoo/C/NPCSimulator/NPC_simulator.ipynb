{
 "cells": [
  {
   "cell_type": "code",
   "execution_count": 1,
   "metadata": {},
   "outputs": [
    {
     "name": "stdout",
     "output_type": "stream",
     "text": [
      "Hello Julia\n"
     ]
    }
   ],
   "source": [
    "println(\"Hello Julia\")"
   ]
  },
  {
   "cell_type": "markdown",
   "metadata": {},
   "source": [
    "## MCSB Bootcamp Dry\n",
    "Jun Allard jun.allard@uci.edu\n",
    "\n",
    "Simulate a transcription factor diffusing inside the cytoplasm, searching for a nuclear pore complex\n",
    "\n",
    "But this time do it in Julia!\n",
    "\n",
    "*Ugh do I really need to learn another language?*"
   ]
  },
  {
   "cell_type": "code",
   "execution_count": null,
   "metadata": {},
   "outputs": [],
   "source": [
    "import Pkg; \n",
    "Pkg.add(\"PyPlot\")\n",
    "Pkg.add(\"Plots\")"
   ]
  },
  {
   "cell_type": "code",
   "execution_count": 58,
   "metadata": {},
   "outputs": [
    {
     "data": {
      "text/plain": [
       "simulateNPCCapture (generic function with 1 method)"
      ]
     },
     "execution_count": 58,
     "metadata": {},
     "output_type": "execute_result"
    }
   ],
   "source": [
    "function simulateNPCCapture()\n",
    "    \n",
    "    # numerical parameters\n",
    "    dt = 0.001 # s\n",
    "    ntmax = 1e6;\n",
    " \n",
    "    NSample = 2000 # number of samples\n",
    "\n",
    "    # model parameters\n",
    "    D = 10 #microns^2/second\n",
    "    L = 10 # microns\n",
    "    NPCSize = 0.01 # microns\n",
    "    NPCLocation = [-L/2,0]\n",
    "\n",
    "    alpha = sqrt(2*D*dt);\n",
    "\n",
    "    # data collection\n",
    "    tCapture = zeros(Float64,NSample);\n",
    "\n",
    "    for iSample in 1:NSample\n",
    "    \n",
    "        # intial condition\n",
    "        x = [L/2,0];\n",
    "    \n",
    "        t = 0;\n",
    "        for nt in 1:ntmax\n",
    "        \n",
    "            # dynamics\n",
    "            x = x .+ alpha*randn(2,1);\n",
    "        \n",
    "            # boundaries\n",
    "            if x[1]>L/2\n",
    "                x[1]=L/2;\n",
    "            elseif x[1]<-L/2\n",
    "                x[1]=-L/2;\n",
    "            end\n",
    "        \n",
    "            if x[2]>L/2\n",
    "                x[2]=L/2;\n",
    "            elseif x[2]<-L/2\n",
    "                x[2]=-L/2;\n",
    "            end\n",
    "        \n",
    "            # test for NPC capture\n",
    "            if ( (x[1]-NPCLocation[1])^2 + (x[2]-NPCLocation[2])^2 < NPCSize^2 )\n",
    "                tCapture[iSample] = t;\n",
    "                break\n",
    "            end\n",
    "                   \n",
    "            t = t+dt;\n",
    "        \n",
    "        end # finished loop through time\n",
    "    \n",
    "    end # finished loop through samples\n",
    "    \n",
    "    return tCapture\n",
    "end"
   ]
  },
  {
   "cell_type": "code",
   "execution_count": 60,
   "metadata": {},
   "outputs": [
    {
     "name": "stdout",
     "output_type": "stream",
     "text": [
      " 40.698176 seconds (624.86 M allocations: 39.107 GiB, 29.10% gc time)\n"
     ]
    },
    {
     "data": {
      "text/plain": [
       "2000-element Array{Float64,1}:\n",
       "   3.4349999999997327\n",
       "  45.497999999984664 \n",
       "   1.9089999999999006\n",
       "  17.063999999997872 \n",
       "  24.077000000006443 \n",
       "  23.21700000000539  \n",
       "  22.518000000004537 \n",
       "  31.7330000000158   \n",
       " 201.6520000005988   \n",
       "  95.32700000009112  \n",
       "  35.084000000008935 \n",
       "  51.17699999997143  \n",
       " 156.66000000038397  \n",
       "   ⋮                 \n",
       "  54.04299999996475  \n",
       "  37.586000000003104 \n",
       "  57.172999999957455 \n",
       "  69.02799999996554  \n",
       " 135.11900000028112  \n",
       "  13.561999999997923 \n",
       "  42.92499999999066  \n",
       "   6.988000000000668 \n",
       " 147.10600000033835  \n",
       " 146.92200000033748  \n",
       "  37.631000000003    \n",
       "  60.489999999949724 "
      ]
     },
     "execution_count": 60,
     "metadata": {},
     "output_type": "execute_result"
    }
   ],
   "source": [
    "tCapture = @time simulateNPCCapture()"
   ]
  },
  {
   "cell_type": "code",
   "execution_count": 56,
   "metadata": {},
   "outputs": [
    {
     "data": {
      "image/png": "[encoded data removed]"
     },
     "execution_count": 56,
     "metadata": {},
     "output_type": "execute_result"
    }
   ],
   "source": [
    "histogram(tCapture)"
   ]
  }
 ],
 "metadata": {
  "kernelspec": {
   "display_name": "Julia 1.2.0",
   "language": "julia",
   "name": "julia-1.2"
  },
  "language_info": {
   "file_extension": ".jl",
   "mimetype": "application/julia",
   "name": "julia",
   "version": "1.2.0"
  }
 },
 "nbformat": 4,
 "nbformat_minor": 2
}
