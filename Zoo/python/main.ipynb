{
 "cells": [
  {
   "cell_type": "markdown",
   "metadata": {
    "slideshow": {
     "slide_type": "slide"
    }
   },
   "source": [
    "# 0.1 Overview\n",
    "\n",
    "## You have a protein sequence. \n",
    "\n",
    "### How do you find patterns in amino acid sequence?\n",
    "\n",
    "### How do you find the largest region of overlap between your protein and another protein?\n",
    "\n"
   ]
  },
  {
   "cell_type": "markdown",
   "metadata": {
    "slideshow": {
     "slide_type": "fragment"
    }
   },
   "source": [
    "After this course, you will be able to :\n",
    "1. Obtain data from online databases programmatically\n",
    "    - Specifically, PDB files from Protein Data Bank.\n",
    "2. Parse the data which is in the form of a text file\n",
    "    - Obtain the amino-acid sequences from the PDB file.\n",
    "3. Look for patterns in the amino acid sequence\n",
    "    - Plot the amino acid frequency of the protein at odd/even positions.\n",
    "4. Align two protein sequences.\n",
    "    - Find the largest region of overlap between 2 proteins."
   ]
  },
  {
   "cell_type": "markdown",
   "metadata": {
    "slideshow": {
     "slide_type": "subslide"
    }
   },
   "source": [
    "# 0.2 Specific programming related objectives\n",
    "\n",
    "1. What kind of language is `python`?\n",
    "1. Different ways of running `python`\n",
    "1. What is a `python` package? How to download?\n",
    "1. Data-types of Python (`int`, `float`, `str`, `bool`, `list`, `dict`)\n",
    "1. Basic math\n",
    "1. Flow control elements (`for` loop, `if` statements)\n",
    "1. Basic plots (line plot, histogram, colors, axis labels, legend)\n",
    "1. How to do `MATLAB` or `R` stuff in Python\n",
    "1. When to not use `python`"
   ]
  },
  {
   "cell_type": "markdown",
   "metadata": {
    "slideshow": {
     "slide_type": "slide"
    }
   },
   "source": [
    "# 1. Why Python?\n",
    "\n",
    "<img src=\"imgs\\python_logo.png\" alt=\"Python symbol\" style=\"width: 200px;\"/>\n",
    "\n",
    "## Open source, general purpose, interpreted language\n",
    "\n",
    "## Easy to read, write (fast prototyping)\n",
    "\n",
    "- Faster than MATLAB*, R*\n",
    "- Great with strings\n",
    "- Also do matrices, solving differential equations, interact with various databases, machine learning\n",
    "- General purpose - Build websites, GUIs, games, etc.\n",
    "\n",
    "## There is a package to solve your problem!\n",
    "   - Packages:Python::Plugins:Firefox/Chrome\n",
    "   - `pip install <packagename>` e.g. `pip install numpy`\n"
   ]
  },
  {
   "cell_type": "markdown",
   "metadata": {
    "slideshow": {
     "slide_type": "slide"
    }
   },
   "source": [
    "# 2. How to start with Python?\n",
    "\n",
    "## Download a distribution (e.g. Anaconda)\n",
    "- Anaconda = `python` + common packages (Anaconda:`python`::macOS:Linux)\n",
    "\n",
    "## [Optional] Create a virtual environment \n",
    "\n",
    "- Avoid confusion with `python` that Linux/macOS need to run\n",
    "- Work on different `python` versions\n",
    "    - This module uses `python 3.6+`\n",
    "- Keep different projects separate\n",
    "\n",
    "## Start coding!"
   ]
  },
  {
   "cell_type": "markdown",
   "metadata": {
    "slideshow": {
     "slide_type": "slide"
    }
   },
   "source": [
    "# 3.1 Modes of Python\n",
    "\n",
    "## Code files\n",
    "\n",
    "<img src=\"gifs/using_code.gif\" alt=\"Python symbol\" style=\"width: 400px;\"/>\n",
    "\n",
    "\n",
    "\n",
    "- Long and involved projects\n",
    "- Submitting jobs on cluster"
   ]
  },
  {
   "cell_type": "markdown",
   "metadata": {
    "slideshow": {
     "slide_type": "subslide"
    }
   },
   "source": [
    "# 3.2\n",
    "\n",
    "## REPL\n",
    "\n",
    "<img src=\"gifs/using_repl.gif\" alt=\"Python symbol\" style=\"width: 800px;\"/>\n",
    "\n",
    "\n",
    "\n",
    "- Read-Eval-Print Loop\n",
    "- Very fast prototyping, especially on cluster etc"
   ]
  },
  {
   "cell_type": "markdown",
   "metadata": {
    "slideshow": {
     "slide_type": "subslide"
    }
   },
   "source": [
    "# 3.3\n",
    "\n",
    "## (Jupyter) Notebooks\n",
    "\n",
    "<!-- <img src=\"imgs/using_code.gif\" alt=\"Python symbol\" style=\"width: 400px;\"/> -->\n",
    "![Notebook example](imgs\\notebook_example.png)\n",
    "\n",
    "\n",
    "\n",
    "- REPL + Markdown\n",
    "- Share with others who want to see your code, write reports\n",
    "- Reproducible research"
   ]
  },
  {
   "cell_type": "markdown",
   "metadata": {
    "slideshow": {
     "slide_type": "subslide"
    }
   },
   "source": [
    "# 3.4\n",
    "\n",
    "## Choosing a mode\n",
    "\n",
    "| Mode                |                                                When to use | When not to use             |\n",
    "|---------------------|:-----------------------------------------------------------|-----------------------------|\n",
    "| Code files          | - Long and involved codes<br> - Submitting jobs on cluster | Fast prototyping            |\n",
    "| REPL                | Very fast prototyping                                      | Any serious work            |\n",
    "| (Jupyter) notebooks | - Fast prototyping<br> - Embed links, images               | Long and involved codes<br> |"
   ]
  },
  {
   "cell_type": "markdown",
   "metadata": {
    "slideshow": {
     "slide_type": "slide"
    }
   },
   "source": [
    "# 4. Jupyter notebooks\n",
    "\n",
    "## 4.1 Uses Markdown for code + explanation in one document\n",
    "\n",
    "\n",
    "![Markdown syntax](imgs\\markdown_syntax.png)\n"
   ]
  },
  {
   "cell_type": "markdown",
   "metadata": {
    "slideshow": {
     "slide_type": "subslide"
    }
   },
   "source": [
    "## 4.2 Markdown rendered\n",
    "\n",
    "![Markdown render](imgs\\markdown_render.png)"
   ]
  },
  {
   "cell_type": "markdown",
   "metadata": {
    "slideshow": {
     "slide_type": "subslide"
    }
   },
   "source": [
    "## 4.3 Convert to other format easily\n",
    "<center><img src=\"imgs\\output_formats.png\" alt=\"Output format\" style=\"height: 400px;\"/></center>\n",
    "- Some formats may need LaTeX installed\n"
   ]
  },
  {
   "cell_type": "markdown",
   "metadata": {
    "slideshow": {
     "slide_type": "subslide"
    }
   },
   "source": [
    "## 4.4 Working with Jupyter\n",
    "\n",
    "### 4.4.1 Start a Jupyter notebook\n",
    "\n",
    "From command line, do\n",
    "\n",
    "```sh\n",
    "jupyter notebook\n",
    "```\n",
    "\n",
    "### 4.4.2 Jupyter notebook and virtual environments\n",
    "\n",
    "#### Virtual environments\n",
    "- To keep separate projects separate\n",
    "- Each virtual environment has:\n",
    "    - Own version of `python` installed\n",
    "    - Own set of packages\n",
    "- Virtual environment:Python :: User:Windows\n"
   ]
  },
  {
   "cell_type": "markdown",
   "metadata": {
    "slideshow": {
     "slide_type": "subslide"
    }
   },
   "source": [
    "#### Creating a virtual environment\n",
    "\n",
    "Type the following in a terminal\n",
    "\n",
    "```sh\n",
    "conda create -n myenv python=3.6  # Creates enviroment\n",
    "conda activate myenv  # Activates environment for use\n",
    "```\n",
    "\n",
    "#### Make Jupyter notebook use your virtual environment\n",
    "\n",
    "1. Activate your virtual environment, suppose it's called `myenv`.\n",
    "2. Install the `ipykernel` package with `--user` flag.\n",
    "3. Install a kernel using `ipykernel`.\n",
    "\n",
    "```sh\n",
    "conda activate myenv\n",
    "pip install --user ipykernel\n",
    "python -m ipykernel install --user --name=myenv_kernel\n",
    "```\n"
   ]
  },
  {
   "cell_type": "markdown",
   "metadata": {
    "slideshow": {
     "slide_type": "subslide"
    }
   },
   "source": [
    "## 4.5 Jupyter and version control\n",
    "\n",
    "### Option 1: Notebook format, `.ipynb`\n",
    "- `json` format\n",
    "- More verbose\n",
    "\n",
    "### Option 2: Convert to Rmarkdown format, `.Rmd`\n",
    "- Less verbose\n",
    "- Must convert back and forth\n",
    "\n",
    "First install `jupytext package`\n",
    "\n",
    "```sh\n",
    "pip install jupytext\n",
    "```\n",
    "\n",
    "Conversions to and from `.Rmd`\n",
    "\n",
    "```sh\n",
    "jupytext --to ipynb notebook.Rmd   # convert Rmd to ipynb\n",
    "jupytext --to rmarkdown notebook.ipynb   # convert ipynb to Rmd\n",
    "\n",
    "```"
   ]
  },
  {
   "cell_type": "markdown",
   "metadata": {
    "slideshow": {
     "slide_type": "slide"
    }
   },
   "source": [
    "# 5. Basic data types and syntax\n",
    "\n",
    "## 5.1 Integers (`int`) & Floats (`float`)\n",
    "Basically, numbers"
   ]
  },
  {
   "cell_type": "code",
   "execution_count": 1,
   "metadata": {
    "slideshow": {
     "slide_type": "-"
    }
   },
   "outputs": [
    {
     "name": "stdout",
     "output_type": "stream",
     "text": [
      "2\n"
     ]
    }
   ],
   "source": [
    "example_int = 2\n",
    "print(example_int)"
   ]
  },
  {
   "cell_type": "code",
   "execution_count": 2,
   "metadata": {
    "slideshow": {
     "slide_type": "-"
    }
   },
   "outputs": [
    {
     "name": "stdout",
     "output_type": "stream",
     "text": [
      "2.0\n"
     ]
    }
   ],
   "source": [
    "example_float = 2.0\n",
    "print(example_float)"
   ]
  },
  {
   "cell_type": "code",
   "execution_count": 3,
   "metadata": {
    "slideshow": {
     "slide_type": "-"
    }
   },
   "outputs": [
    {
     "name": "stdout",
     "output_type": "stream",
     "text": [
      "<class 'int'> <class 'float'>\n"
     ]
    }
   ],
   "source": [
    "print(type(example_int), type(example_float))"
   ]
  },
  {
   "cell_type": "code",
   "execution_count": 4,
   "metadata": {
    "slideshow": {
     "slide_type": "-"
    }
   },
   "outputs": [
    {
     "name": "stdout",
     "output_type": "stream",
     "text": [
      "4.0 <class 'float'>\n"
     ]
    }
   ],
   "source": [
    "x = example_int + example_float\n",
    "print(x, type(x))"
   ]
  },
  {
   "cell_type": "markdown",
   "metadata": {
    "slideshow": {
     "slide_type": "subslide"
    }
   },
   "source": [
    "## 5.1.2 Basic math\n"
   ]
  },
  {
   "cell_type": "code",
   "execution_count": 5,
   "metadata": {
    "slideshow": {
     "slide_type": "-"
    }
   },
   "outputs": [
    {
     "name": "stdout",
     "output_type": "stream",
     "text": [
      "3\n",
      "1\n"
     ]
    }
   ],
   "source": [
    "print(1 + 2)\n",
    "print(example_int - 1)"
   ]
  },
  {
   "cell_type": "code",
   "execution_count": 6,
   "metadata": {
    "slideshow": {
     "slide_type": "-"
    }
   },
   "outputs": [
    {
     "name": "stdout",
     "output_type": "stream",
     "text": [
      "6\n"
     ]
    }
   ],
   "source": [
    "print(3 * 2)"
   ]
  },
  {
   "cell_type": "code",
   "execution_count": 7,
   "metadata": {
    "slideshow": {
     "slide_type": "-"
    }
   },
   "outputs": [
    {
     "name": "stdout",
     "output_type": "stream",
     "text": [
      "Dividing by int is same as dividing by float 1.5 1.5\n"
     ]
    }
   ],
   "source": [
    "print(\"Dividing by int is same as dividing by float\", 3 / 2, 3 / 2.0)"
   ]
  },
  {
   "cell_type": "code",
   "execution_count": 8,
   "metadata": {
    "slideshow": {
     "slide_type": "-"
    }
   },
   "outputs": [
    {
     "name": "stdout",
     "output_type": "stream",
     "text": [
      "Get quotient with // and remainder with percent sign\n",
      "1 3\n"
     ]
    }
   ],
   "source": [
    "print(\"Get quotient with // and remainder with percent sign\")\n",
    "print(7//4, 7%4)"
   ]
  },
  {
   "cell_type": "code",
   "execution_count": 9,
   "metadata": {
    "slideshow": {
     "slide_type": "-"
    }
   },
   "outputs": [
    {
     "name": "stdout",
     "output_type": "stream",
     "text": [
      "Raise to power with **\n",
      "32\n"
     ]
    }
   ],
   "source": [
    "print(\"Raise to power with **\")\n",
    "print(2**5)"
   ]
  },
  {
   "cell_type": "markdown",
   "metadata": {
    "slideshow": {
     "slide_type": "subslide"
    }
   },
   "source": [
    "## 5.1.3 Mathematical functions\n",
    "\n",
    "First import the `math` library, and call functions with `math.exp(2)` or `math.sin(3)`."
   ]
  },
  {
   "cell_type": "code",
   "execution_count": 10,
   "metadata": {
    "slideshow": {
     "slide_type": "-"
    }
   },
   "outputs": [
    {
     "name": "stdout",
     "output_type": "stream",
     "text": [
      "Sin(pi) is :  1.2246467991473532e-16\n"
     ]
    }
   ],
   "source": [
    "import math\n",
    "print(\"Sin(pi) is : \", math.sin(math.pi))"
   ]
  },
  {
   "cell_type": "markdown",
   "metadata": {
    "slideshow": {
     "slide_type": "-"
    }
   },
   "source": [
    "Or get the NumPy package and call functions with"
   ]
  },
  {
   "cell_type": "code",
   "execution_count": 11,
   "metadata": {
    "slideshow": {
     "slide_type": "-"
    }
   },
   "outputs": [
    {
     "name": "stdout",
     "output_type": "stream",
     "text": [
      "Sin(pi) is :  1.2246467991473532e-16\n"
     ]
    }
   ],
   "source": [
    "import numpy as np  # np is shorthand for numpy, so you don't have to type it out\n",
    "print(\"Sin(pi) is : \", np.sin(np.pi))  # you can have any shorthand name you want, like `import numpy as nmp`"
   ]
  },
  {
   "cell_type": "markdown",
   "metadata": {
    "slideshow": {
     "slide_type": "-"
    }
   },
   "source": [
    "Try to evaluate $(\\pi + 2x)/(\\sin(x/2) + \\log_{10}(x))$ for $x = 2$"
   ]
  },
  {
   "cell_type": "code",
   "execution_count": 12,
   "metadata": {
    "slideshow": {
     "slide_type": "fragment"
    }
   },
   "outputs": [
    {
     "name": "stdout",
     "output_type": "stream",
     "text": [
      "5.251636631000412\n"
     ]
    }
   ],
   "source": [
    "x = 2\n",
    "y = (x + 2 * x) / (math.sin(x/2) + math.log10(x))\n",
    "print(y)"
   ]
  },
  {
   "cell_type": "markdown",
   "metadata": {
    "slideshow": {
     "slide_type": "subslide"
    }
   },
   "source": [
    "## 5.2 String (`str`)\n",
    "\n",
    "- Can be enclosed in single or double quotes"
   ]
  },
  {
   "cell_type": "code",
   "execution_count": 13,
   "metadata": {
    "slideshow": {
     "slide_type": "-"
    }
   },
   "outputs": [
    {
     "name": "stdout",
     "output_type": "stream",
     "text": [
      "Example_str :  abcde\n",
      "Example_str2 :  abcde\n"
     ]
    }
   ],
   "source": [
    "example_str = \"abcde\"\n",
    "example_str2 = 'abcde'\n",
    "print(\"Example_str : \", example_str)\n",
    "print(\"Example_str2 : \", example_str2)"
   ]
  },
  {
   "cell_type": "code",
   "execution_count": 14,
   "metadata": {
    "slideshow": {
     "slide_type": "-"
    }
   },
   "outputs": [
    {
     "name": "stdout",
     "output_type": "stream",
     "text": [
      "<class 'str'>\n"
     ]
    }
   ],
   "source": [
    "print(type(example_str))"
   ]
  },
  {
   "cell_type": "code",
   "execution_count": 15,
   "metadata": {
    "slideshow": {
     "slide_type": "-"
    }
   },
   "outputs": [
    {
     "name": "stdout",
     "output_type": "stream",
     "text": [
      "b <class 'str'>\n"
     ]
    }
   ],
   "source": [
    "print(example_str[1], type(example_str[0]))"
   ]
  },
  {
   "cell_type": "code",
   "execution_count": 16,
   "metadata": {
    "slideshow": {
     "slide_type": "-"
    }
   },
   "outputs": [
    {
     "name": "stdout",
     "output_type": "stream",
     "text": [
      "abc\n"
     ]
    }
   ],
   "source": [
    "print(example_str[0:3])"
   ]
  },
  {
   "cell_type": "code",
   "execution_count": 17,
   "metadata": {
    "slideshow": {
     "slide_type": "-"
    }
   },
   "outputs": [
    {
     "name": "stdout",
     "output_type": "stream",
     "text": [
      "Abcde string capitalization and addition\n"
     ]
    }
   ],
   "source": [
    "print(example_str.capitalize() + \" string capitalization and addition\")"
   ]
  },
  {
   "cell_type": "markdown",
   "metadata": {
    "slideshow": {
     "slide_type": "subslide"
    }
   },
   "source": [
    "## 5.3 List (`list`)\n",
    "\n",
    "For collections of things"
   ]
  },
  {
   "cell_type": "code",
   "execution_count": 18,
   "metadata": {
    "slideshow": {
     "slide_type": "-"
    }
   },
   "outputs": [
    {
     "name": "stdout",
     "output_type": "stream",
     "text": [
      "[1, 2.0, 'c'] <class 'list'>\n",
      "Length of list is :  3\n"
     ]
    }
   ],
   "source": [
    "example_list = [1, 2.0, \"c\"]\n",
    "print(example_list, type(example_list))\n",
    "print(\"Length of list is : \", len(example_list))"
   ]
  },
  {
   "cell_type": "code",
   "execution_count": 19,
   "metadata": {
    "slideshow": {
     "slide_type": "-"
    }
   },
   "outputs": [
    {
     "name": "stdout",
     "output_type": "stream",
     "text": [
      "[1] but 1\n"
     ]
    }
   ],
   "source": [
    "print(example_list[0:1], \"but\", example_list[0])"
   ]
  },
  {
   "cell_type": "code",
   "execution_count": 20,
   "metadata": {
    "slideshow": {
     "slide_type": "-"
    }
   },
   "outputs": [
    {
     "name": "stdout",
     "output_type": "stream",
     "text": [
      "[1, 2.0, 'c', 421323]\n"
     ]
    }
   ],
   "source": [
    "example_list.append(421323)\n",
    "print(example_list)"
   ]
  },
  {
   "cell_type": "code",
   "execution_count": 21,
   "metadata": {
    "slideshow": {
     "slide_type": "-"
    }
   },
   "outputs": [
    {
     "name": "stdout",
     "output_type": "stream",
     "text": [
      "Example list is : [1, 2.0, 'c', 421323]\n",
      "Example list 2 is : [1, 2.0, 'c', 421323, 'v']\n"
     ]
    }
   ],
   "source": [
    "example_list2 = example_list + [\"v\"]\n",
    "print(f\"Example list is : {example_list}\")\n",
    "print(f\"Example list 2 is : {example_list2}\")"
   ]
  },
  {
   "cell_type": "markdown",
   "metadata": {
    "slideshow": {
     "slide_type": "subslide"
    }
   },
   "source": [
    "## 5.4 Boolean (`bool`)\n",
    "\n",
    "Either `True` or `False`"
   ]
  },
  {
   "cell_type": "code",
   "execution_count": 22,
   "metadata": {
    "slideshow": {
     "slide_type": "-"
    }
   },
   "outputs": [
    {
     "name": "stdout",
     "output_type": "stream",
     "text": [
      "True\n",
      "Type of an equality check is :  <class 'bool'>\n"
     ]
    }
   ],
   "source": [
    "print(2 == 2.0)\n",
    "print(\"Type of an equality check is : \", type(2==2.0))"
   ]
  },
  {
   "cell_type": "code",
   "execution_count": 23,
   "metadata": {
    "slideshow": {
     "slide_type": "-"
    }
   },
   "outputs": [
    {
     "name": "stdout",
     "output_type": "stream",
     "text": [
      "False\n",
      "Converting a False bool to an integer :  0\n"
     ]
    }
   ],
   "source": [
    "example_list = [1,2,3]\n",
    "print(example_list[2] == \"v\")\n",
    "print(\"Converting a False bool to an integer : \", int(example_list[2] == \"v\"))"
   ]
  },
  {
   "cell_type": "markdown",
   "metadata": {
    "slideshow": {
     "slide_type": "fragment"
    }
   },
   "source": [
    "### 5.4.1 Boolean operators (`and`, `or`)"
   ]
  },
  {
   "cell_type": "code",
   "execution_count": 24,
   "metadata": {
    "slideshow": {
     "slide_type": "-"
    }
   },
   "outputs": [
    {
     "name": "stdout",
     "output_type": "stream",
     "text": [
      "True\n",
      "True\n"
     ]
    }
   ],
   "source": [
    "print((example_list[1] == 2) and (example_list[2] == 3))\n",
    "print((example_list[1] == 2) or (example_list[2] == 3321))"
   ]
  },
  {
   "cell_type": "markdown",
   "metadata": {
    "slideshow": {
     "slide_type": "subslide"
    }
   },
   "source": [
    "## 5.5 Dictionary (`dict`)\n",
    "\n",
    "### Key-value pairs\n",
    "#### Like a 2 column table\n",
    "- First column - `key`, should be unique\n",
    "- Second column - `value`, can be (almost) any datatype\n",
    "\n",
    "#### Create a dictionary and add elements"
   ]
  },
  {
   "cell_type": "code",
   "execution_count": 25,
   "metadata": {
    "slideshow": {
     "slide_type": "-"
    }
   },
   "outputs": [
    {
     "name": "stdout",
     "output_type": "stream",
     "text": [
      "one  and  3.1417\n"
     ]
    }
   ],
   "source": [
    "example_dict = {1:\"one\", 2:\"two\", \"pi\":3.1417}\n",
    "example_dict[\"e\"] = 2.73\n",
    "print(example_dict[1], \" and \", example_dict[\"pi\"])"
   ]
  },
  {
   "cell_type": "markdown",
   "metadata": {},
   "source": [
    "#### Get all keys with `dict.keys()`, values with `dict.values()`"
   ]
  },
  {
   "cell_type": "code",
   "execution_count": 26,
   "metadata": {
    "slideshow": {
     "slide_type": "-"
    }
   },
   "outputs": [
    {
     "name": "stdout",
     "output_type": "stream",
     "text": [
      "Keys are :  dict_keys([1, 2, 'pi', 'e']) <class 'dict_keys'>\n",
      "Values are :  dict_values(['one', 'two', 3.1417, 2.73]) <class 'dict_values'>\n"
     ]
    }
   ],
   "source": [
    "print(\"Keys are : \", example_dict.keys(), type(example_dict.keys()))\n",
    "print(\"Values are : \", example_dict.values(), type(example_dict.values()))"
   ]
  },
  {
   "cell_type": "markdown",
   "metadata": {
    "slideshow": {
     "slide_type": "subslide"
    }
   },
   "source": [
    "## 5.6 Flow control statements\n",
    "\n",
    "Syntax uses white spaces, no excessive brackets etc for readability\n",
    "\n",
    "**DO NOT MIX TABS AND SPACES**\n",
    "\n",
    "### 5.6.1 `if-else`\n"
   ]
  },
  {
   "cell_type": "code",
   "execution_count": 27,
   "metadata": {
    "slideshow": {
     "slide_type": "-"
    }
   },
   "outputs": [
    {
     "name": "stdout",
     "output_type": "stream",
     "text": [
      "x was 1!\n"
     ]
    }
   ],
   "source": [
    "x = 1\n",
    "if x == 1:\n",
    "    print(\"x was 1!\")\n",
    "elif (x == \"cat\"):\n",
    "    print(\"meow\")\n",
    "else:\n",
    "    print(\"output of else\")"
   ]
  },
  {
   "cell_type": "markdown",
   "metadata": {
    "slideshow": {
     "slide_type": "subslide"
    }
   },
   "source": [
    "### 5.6.2 `for` loop\n",
    "\n",
    "- `range(n)` gives integer from **[0,1,...,n)**\n",
    "- Can also specify non-zero start points and jump size: how? Try `help(range)`!"
   ]
  },
  {
   "cell_type": "code",
   "execution_count": 28,
   "metadata": {
    "slideshow": {
     "slide_type": "-"
    }
   },
   "outputs": [
    {
     "name": "stdout",
     "output_type": "stream",
     "text": [
      "Loop index is :  0\n",
      "Loop index is :  1\n",
      "Loop index is :  2\n"
     ]
    }
   ],
   "source": [
    "for loop_index in range(3):\n",
    "    print(\"Loop index is : \", loop_index)"
   ]
  },
  {
   "cell_type": "markdown",
   "metadata": {
    "slideshow": {
     "slide_type": "fragment"
    }
   },
   "source": [
    "- Can be used to move through a list"
   ]
  },
  {
   "cell_type": "code",
   "execution_count": 29,
   "metadata": {
    "slideshow": {
     "slide_type": "-"
    }
   },
   "outputs": [
    {
     "name": "stdout",
     "output_type": "stream",
     "text": [
      "Item is :  a\n",
      "Item is :  b\n",
      "Item is :  c\n",
      "Item is :  a\n",
      "Item is :  b\n",
      "Item is :  c\n"
     ]
    }
   ],
   "source": [
    "example_list = [\"a\", \"b\", \"c\"]\n",
    "for item in example_list:\n",
    "    print(\"Item is : \", item)\n",
    "for loop_index in range(len(example_list)):\n",
    "    print(\"Item is : \", example_list[loop_index])"
   ]
  },
  {
   "cell_type": "markdown",
   "metadata": {
    "slideshow": {
     "slide_type": "subslide"
    }
   },
   "source": [
    "### 5.6.3 `break` and `continue`\n",
    "\n",
    "- `break` skips the reaminder of the current iteration + all future iterations\n",
    "- `continue` skips the remainder of the current iteration"
   ]
  },
  {
   "cell_type": "code",
   "execution_count": 30,
   "metadata": {
    "slideshow": {
     "slide_type": "-"
    }
   },
   "outputs": [
    {
     "name": "stdout",
     "output_type": "stream",
     "text": [
      "ind = 0, continuing\n",
      "ind = 1, continuing\n",
      "ind = 2, doing nothing\n",
      "ind = 3, doing nothing\n",
      "ind = 4, breaking\n"
     ]
    }
   ],
   "source": [
    "for ind in range(5):\n",
    "    if ind < 2:\n",
    "        print(f\"ind = {ind}, continuing\")\n",
    "        continue\n",
    "    elif ind > 3:\n",
    "        print(f\"ind = {ind}, breaking\")\n",
    "        break\n",
    "    print(f\"ind = {ind}, doing nothing\")\n",
    "        "
   ]
  },
  {
   "cell_type": "markdown",
   "metadata": {
    "slideshow": {
     "slide_type": "slide"
    }
   },
   "source": [
    "# 6 Functions"
   ]
  },
  {
   "cell_type": "code",
   "execution_count": 31,
   "metadata": {
    "slideshow": {
     "slide_type": "-"
    }
   },
   "outputs": [
    {
     "name": "stdout",
     "output_type": "stream",
     "text": [
      "5 <class 'function'> <function add at 0x00000289B48AC6A8>\n",
      "Changing argument order :  5\n",
      "Calling add function with lists :  [2, 3, 6, 7]\n"
     ]
    }
   ],
   "source": [
    "def add(a, b):\n",
    "    y = a + b\n",
    "    return y\n",
    "\n",
    "print(add(2, 3), type(add), add)\n",
    "print(\"Changing argument order : \", add(b=3, a=2))\n",
    "print(\"Calling add function with lists : \", add([2,3], [6,7]))"
   ]
  },
  {
   "cell_type": "markdown",
   "metadata": {
    "slideshow": {
     "slide_type": "fragment"
    }
   },
   "source": [
    "## 6.1 Default arguments"
   ]
  },
  {
   "cell_type": "code",
   "execution_count": 32,
   "metadata": {
    "slideshow": {
     "slide_type": "-"
    }
   },
   "outputs": [
    {
     "name": "stdout",
     "output_type": "stream",
     "text": [
      "Specifying both arguments :  4\n",
      "Specifying only one argument :  7\n",
      "Specifying only one argument with keyword :  7\n"
     ]
    }
   ],
   "source": [
    "def sub(a, b=2):\n",
    "    return a - b\n",
    "print(\"Specifying both arguments : \", sub(11, 7))\n",
    "print(\"Specifying only one argument : \", sub(9))\n",
    "print(\"Specifying only one argument with keyword : \", sub(a=9))\n",
    "# Uncomment the following lines and try\n",
    "# def sub2(a=2, b):\n",
    "#     return a - b"
   ]
  },
  {
   "cell_type": "markdown",
   "metadata": {
    "slideshow": {
     "slide_type": "subslide"
    }
   },
   "source": [
    "## 6.2 Return types can be anything"
   ]
  },
  {
   "cell_type": "code",
   "execution_count": 33,
   "metadata": {},
   "outputs": [
    {
     "name": "stdout",
     "output_type": "stream",
     "text": [
      "Calling with argument 3!\n",
      "Returned value is :  <built-in function sin>\n",
      "Returned type is :  <class 'builtin_function_or_method'>\n"
     ]
    }
   ],
   "source": [
    "import math\n",
    "\n",
    "def my_func(x):\n",
    "    if x == 1:\n",
    "        return \"one\"\n",
    "    elif x == 2:\n",
    "        return [2, \"two\"]\n",
    "    elif x == 3:\n",
    "        return  math.sin\n",
    "\n",
    "print(\"Calling with argument 3!\")\n",
    "return_value = my_func(3)\n",
    "print(\"Returned value is : \", return_value)\n",
    "print(\"Returned type is : \", type(return_value))"
   ]
  },
  {
   "cell_type": "markdown",
   "metadata": {
    "slideshow": {
     "slide_type": "slide"
    }
   },
   "source": [
    "# 7.1 Basic plotting\n",
    "\n",
    "- `matplotlib` is the plotting library\n",
    "\n",
    "First define the data used for plotting"
   ]
  },
  {
   "cell_type": "code",
   "execution_count": 34,
   "metadata": {
    "slideshow": {
     "slide_type": "-"
    }
   },
   "outputs": [],
   "source": [
    "Tc = list(range(0,100,5))\n",
    "Tf, Tf_incorrect = [], []\n",
    "for ind in range(len(Tc)):\n",
    "    this_Tf = 9/5 * Tc[ind] + 32\n",
    "    Tf.append(this_Tf)\n",
    "    Tf_incorrect.append(this_Tf*1.15)"
   ]
  },
  {
   "cell_type": "markdown",
   "metadata": {
    "slideshow": {
     "slide_type": "subslide"
    }
   },
   "source": [
    "## 7.1.1 Line plots"
   ]
  },
  {
   "cell_type": "code",
   "execution_count": 35,
   "metadata": {
    "slideshow": {
     "slide_type": "-"
    }
   },
   "outputs": [
    {
     "data": {
      "text/plain": [
       "<Figure size 640x480 with 1 Axes>"
      ]
     },
     "metadata": {},
     "output_type": "display_data"
    }
   ],
   "source": [
    "import matplotlib.pyplot as plt\n",
    "\n",
    "# Call plt.plot with x and y arguments. Also provide `color`, `marker`, `linestyle` and `label`.\n",
    "# `label` shows up in legend`\n",
    "plt.plot(Tc, Tf, color=\"green\", marker=\"o\", linestyle= \":\", label=\"Correct\")\n",
    "plt.plot(Tc, Tf_incorrect, \"rx\", label=\"Incorrect\")  # plot the incorrect Fahrenheit\n",
    "plt.xlabel(\"Temperature ($^o$C)\")  # set x label\n",
    "plt.ylabel(\"Temperature ($^o$F)\")  # set y label\n",
    "plt.legend()  # Make the legend appear\n",
    "plt.show()"
   ]
  },
  {
   "cell_type": "markdown",
   "metadata": {
    "slideshow": {
     "slide_type": "subslide"
    }
   },
   "source": [
    "## 7.1.2 Histograms"
   ]
  },
  {
   "cell_type": "code",
   "execution_count": 36,
   "metadata": {
    "slideshow": {
     "slide_type": "-"
    }
   },
   "outputs": [
    {
     "data": {
      "image/png": "[encoded data removed]",
      "text/plain": [
       "<Figure size 432x288 with 1 Axes>"
      ]
     },
     "metadata": {
      "needs_background": "light"
     },
     "output_type": "display_data"
    }
   ],
   "source": [
    "import random\n",
    "x1 = []\n",
    "x2 = []\n",
    "random.seed(10)  # for reproducibility\n",
    "for ind in range(1000):\n",
    "    x1.append(random.random())\n",
    "    x2.append(random.normalvariate(mu=1, sigma=1))\n",
    "plt.hist(x1);\n",
    "plt.hist(x2, alpha=0.5);"
   ]
  },
  {
   "cell_type": "markdown",
   "metadata": {
    "slideshow": {
     "slide_type": "subslide"
    }
   },
   "source": [
    "# 8.1  `python` for `MATLAB` users\n",
    "\n",
    "\n",
    "## Counting starts with 0 in `python`, 1 in `MATLAB`\n",
    "\n",
    "## `numpy` - basic matrix functionality\n",
    "\n",
    "https://docs.scipy.org/doc/numpy/user/numpy-for-matlab-users.html\n",
    "\n",
    "## `scipy` - advanced math functions, optimization, differential equations"
   ]
  },
  {
   "cell_type": "code",
   "execution_count": 37,
   "metadata": {
    "slideshow": {
     "slide_type": "-"
    }
   },
   "outputs": [
    {
     "name": "stdout",
     "output_type": "stream",
     "text": [
      "[[0. 0. 0.]\n",
      " [0. 0. 0.]]\n"
     ]
    }
   ],
   "source": [
    "import numpy as np\n",
    "\n",
    "x = np.zeros([2, 3])\n",
    "print(x)"
   ]
  },
  {
   "cell_type": "markdown",
   "metadata": {
    "slideshow": {
     "slide_type": "subslide"
    }
   },
   "source": [
    "## 8.1.1 Solve and plot a differential equation\n",
    "\n",
    "To solve the following differential equation:\n",
    "\n",
    "$$dh/dt = -r_1 h -r_2 h$$\n",
    "$$di/dt = r_2 h + r_3 I (I_{max}-I)$$"
   ]
  },
  {
   "cell_type": "code",
   "execution_count": 38,
   "metadata": {
    "slideshow": {
     "slide_type": "-"
    }
   },
   "outputs": [
    {
     "data": {
      "image/png": "[encoded data removed]",
      "text/plain": [
       "<Figure size 432x288 with 1 Axes>"
      ]
     },
     "metadata": {
      "needs_background": "light"
     },
     "output_type": "display_data"
    }
   ],
   "source": [
    "from scipy.integrate import solve_ivp\n",
    "def twocomp_model(t, y, p) -> float:\n",
    "    dhdt = -p[\"r1\"] * y[0] - p[\"r2\"] * y[0]\n",
    "    didt = p[\"r2\"] * y[0] + p[\"r3\"] * y[1] * (p[\"Imax\"]  - y[1])\n",
    "    return [dhdt, didt]\n",
    "tlist, y0 = [0, 5], [1000, 0]\n",
    "pars = {\"r1\":1.0, \"r2\":1.0, \"r3\":0.001, \"Imax\":3000} # dictionary of parameters\n",
    "sol = solve_ivp(lambda t, y: twocomp_model(t, y, pars), tlist, y0)\n",
    "plt.plot(sol.t, sol.y[0,:], \"red\", label=\"h\");"
   ]
  },
  {
   "cell_type": "markdown",
   "metadata": {
    "slideshow": {
     "slide_type": "subslide"
    }
   },
   "source": [
    "# 8.2 `python` for `R` users\n",
    "\n",
    "## Counting starts with 0 in `python`, 1 in `R`\n",
    "\n",
    "## `pandas` - dataframes"
   ]
  },
  {
   "cell_type": "code",
   "execution_count": 39,
   "metadata": {
    "slideshow": {
     "slide_type": "-"
    }
   },
   "outputs": [
    {
     "data": {
      "text/html": [
       "<div>\n",
       "<style scoped>\n",
       "    .dataframe tbody tr th:only-of-type {\n",
       "        vertical-align: middle;\n",
       "    }\n",
       "\n",
       "    .dataframe tbody tr th {\n",
       "        vertical-align: top;\n",
       "    }\n",
       "\n",
       "    .dataframe thead th {\n",
       "        text-align: right;\n",
       "    }\n",
       "</style>\n",
       "<table border=\"1\" class=\"dataframe\">\n",
       "  <thead>\n",
       "    <tr style=\"text-align: right;\">\n",
       "      <th></th>\n",
       "      <th>A</th>\n",
       "      <th>B</th>\n",
       "    </tr>\n",
       "  </thead>\n",
       "  <tbody>\n",
       "    <tr>\n",
       "      <th>1</th>\n",
       "      <td>-0.576283</td>\n",
       "      <td>-0.497438</td>\n",
       "    </tr>\n",
       "    <tr>\n",
       "      <th>2</th>\n",
       "      <td>-0.117161</td>\n",
       "      <td>0.283345</td>\n",
       "    </tr>\n",
       "    <tr>\n",
       "      <th>3</th>\n",
       "      <td>-0.636753</td>\n",
       "      <td>0.971621</td>\n",
       "    </tr>\n",
       "    <tr>\n",
       "      <th>4</th>\n",
       "      <td>-0.390598</td>\n",
       "      <td>0.214083</td>\n",
       "    </tr>\n",
       "  </tbody>\n",
       "</table>\n",
       "</div>"
      ],
      "text/plain": [
       "          A         B\n",
       "1 -0.576283 -0.497438\n",
       "2 -0.117161  0.283345\n",
       "3 -0.636753  0.971621\n",
       "4 -0.390598  0.214083"
      ]
     },
     "execution_count": 39,
     "metadata": {},
     "output_type": "execute_result"
    }
   ],
   "source": [
    "import pandas as pd\n",
    "df = pd.DataFrame(np.random.randn(4, 2), index=[1,2,3,4], columns=list('AB'))\n",
    "df"
   ]
  },
  {
   "cell_type": "code",
   "execution_count": 40,
   "metadata": {
    "slideshow": {
     "slide_type": "-"
    }
   },
   "outputs": [
    {
     "data": {
      "text/plain": [
       "1   -0.576283\n",
       "2   -0.117161\n",
       "3   -0.636753\n",
       "4   -0.390598\n",
       "Name: A, dtype: float64"
      ]
     },
     "execution_count": 40,
     "metadata": {},
     "output_type": "execute_result"
    }
   ],
   "source": [
    "df[\"A\"]"
   ]
  },
  {
   "cell_type": "markdown",
   "metadata": {
    "slideshow": {
     "slide_type": "slide"
    }
   },
   "source": [
    "# 9. Python 2 vs 3\n",
    "\n",
    "- 3.x is current\n",
    "- Support 2.x will stop by 2020\n",
    "- Some older packages may only work with 2.x\n",
    "\n",
    "## Key differences\n",
    "| Py2                |                                                Py3 | \n",
    "|---------------------|:-----------------------------------------------------------|\n",
    "| `print \"this is a string\"`          | `print(\"this is a string\")` |\n",
    "| `3/2` evaluates to `1`, of type `int`                | `3/2` evaluates to `1.5`, of type `float`|"
   ]
  },
  {
   "cell_type": "markdown",
   "metadata": {
    "slideshow": {
     "slide_type": "slide"
    }
   },
   "source": [
    "# 10. Why not python?\n",
    "\n",
    "## Slower than C, C++, Julia\n",
    "   - `numba` - magically compiles Python -> C (like `MATLAB Coder`)\n",
    "   - `Cython` - intermediate language with more fine-grained control\n",
    "   - C extensions - actual C code used by Python (like `Rcpp` in `R` and `mex` in `MATLAB`)\n",
    "\n",
    "## Package and python version conflicts\n",
    "   - Virtual environments\n",
    "   - `pipenv`\n",
    "\n",
    "## Fewer statistical packages\n",
    "  - Use `R` for uncommon statistical tests, easier interface\n",
    "\n",
    "## You prefer GUIs to coding\n",
    "    - Use the `MATLAB` toolbox GUIs"
   ]
  },
  {
   "cell_type": "markdown",
   "metadata": {
    "slideshow": {
     "slide_type": "slide"
    }
   },
   "source": [
    "# A. Assignment\n",
    "\n",
    "## A1.1 Obtain PDB File\n",
    "\n",
    "Fill up the following function skeleton:\n",
    "```python\n",
    "def get_pdb_file(): # insert arguments\n",
    "    print() # make print output match\n",
    "    # generalize the following variables\n",
    "    file_url = \"https://files.rcsb.org/download/zzzz.pdb\"\n",
    "    download_file_name = \"zzzz.pdb\"\n",
    "    urllib.request.urlretrieve(file_url, download_file_name) # don't modify\n",
    "    print() # make print output match\n",
    "    with open(download_file_name) as file_handle: # don't modify\n",
    "        data = file_handle.read() # don't modify\n",
    "        lines = ___ # get a list of lines\n",
    "    print() # make print output match, print first line of file\n",
    "```\n",
    "\n",
    "Expected output on the next page."
   ]
  },
  {
   "cell_type": "markdown",
   "metadata": {
    "slideshow": {
     "slide_type": "subslide"
    }
   },
   "source": [
    "### Expected outputs\n",
    "\n",
    "When you call `get_pdb_file` as follows:\n",
    "\n",
    "```python\n",
    "get_pdb_file(\"3SJU\")\n",
    "```\n",
    "\n",
    "you get the following output:\n",
    "\n",
    "```\n",
    "Going to download : 3SJU\n",
    "Downloaded 3SJU.pdb\n",
    "The first line is : HEADER    OXIDOREDUCTASE                          21-JUN-11   3SJU\n",
    "```"
   ]
  },
  {
   "cell_type": "markdown",
   "metadata": {
    "slideshow": {
     "slide_type": "subslide"
    }
   },
   "source": [
    "## A2.1 Process file and plot amino acid frequencies\n",
    "\n",
    "The final plot should look like this:\n",
    "\n",
    "![Ooh a secret!](imgs\\f1.png \"Figure 1\")\n",
    "\n",
    "Hints on the next page."
   ]
  },
  {
   "cell_type": "markdown",
   "metadata": {
    "slideshow": {
     "slide_type": "subslide"
    }
   },
   "source": [
    "### Hints\n",
    "\n",
    "- Use the following list\n",
    "\n",
    "```python\n",
    "x = [\"Ala\", \"Arg\", \"Asn\", \"Asp\", \"Cys\", \"Glu\", \"Gly\", \"His\",\n",
    "    \"Ile\", \"Leu\", \"Lys\", \"Met\", \"Phe\", \"Pro\", \"Ser\", \"Thr\",\n",
    "    \"Trp\", \"Tyr\", \"Val\"]\n",
    "```"
   ]
  },
  {
   "cell_type": "markdown",
   "metadata": {
    "slideshow": {
     "slide_type": "fragment"
    }
   },
   "source": [
    "- One way : Extract the amino acids from the `.pdb` file using `with open...`, `str.startswith()`, `str.split()` and `str.capitalize()`. Assign to a list. The output should look something like:\n",
    "\n",
    "```python\n",
    "all_aa = [\"Met\", \"Gly\", \"Ser\"...]\n",
    "```"
   ]
  },
  {
   "cell_type": "markdown",
   "metadata": {
    "slideshow": {
     "slide_type": "fragment"
    }
   },
   "source": [
    "- Use the following function to get the counts of the amino acids.\n",
    "\n",
    "```python\n",
    "def get_counts(aa_list):\n",
    "    y = []\n",
    "    for an_aa in x:\n",
    "        y.append(aa_list.count(an_aa))\n",
    "    return y\n",
    "```"
   ]
  },
  {
   "cell_type": "markdown",
   "metadata": {
    "slideshow": {
     "slide_type": "subslide"
    }
   },
   "source": [
    "## A2.2 (challenge) Use single letter amino acid labels on X axis\n",
    "\n",
    "The final plot should look like this:\n",
    "\n",
    "![alt text](imgs\\f2.png \"Figure 2\")\n",
    "\n",
    "\n",
    "```python\n",
    "aa_dict = {\"ala\":\"A\", \"arg\":\"R\", \"asn\":\"N\", \"asp\":\"D\", \"asx\":\"B\", \"cys\":\"C\", \"glu\":\"E\", \n",
    "           \"gln\":\"Q\",\"glx\":\"Z\",\"gly\":\"G\", \"his\":\"H\", \"ile\":\"I\",\"leu\":\"L\", \"lys\":\"K\", \"met\":\"M\",\n",
    "           \"phe\":\"F\", \"pro\":\"P\", \"ser\":\"S\", \"thr\":\"T\", \"trp\":\"W\", \"tyr\":\"Y\", \"val\":\"V\"}\n",
    "```"
   ]
  },
  {
   "cell_type": "markdown",
   "metadata": {
    "slideshow": {
     "slide_type": "subslide"
    }
   },
   "source": [
    "## A2.2 (challenge) Overlay frequencies at odd and even positions + legend\n",
    "\n",
    "Overlay two frequency plots, one of the amino acids in the even positions and another of amino acids in the odd positions. For example, if the amino acids are : \n",
    "\n",
    "```python\n",
    "aa = [\"Gly\", \"Ala\", \"Val\", \"Leu\", \"Ile\", \"Cys\"]\n",
    "```\n",
    "\n",
    "Then make histogram of the following two lists:\n",
    "```python\n",
    "aa_odd = [\"Gly\", \"Val\", \"Ile\"]\n",
    "aa_even = [\"Ala\", \"Leu\", \"Cys\"]\n",
    "```\n",
    "\n",
    "Final plot + hints on the next page.\n",
    "\n"
   ]
  },
  {
   "cell_type": "markdown",
   "metadata": {
    "slideshow": {
     "slide_type": "subslide"
    }
   },
   "source": [
    "### Final plot\n",
    "\n",
    "![alt text](imgs\\f3.png \"Figure 3\")\n",
    "\n",
    "### Hints\n",
    "1. Use the `get_counts` function defined earlier.\n"
   ]
  },
  {
   "cell_type": "markdown",
   "metadata": {
    "slideshow": {
     "slide_type": "subslide"
    }
   },
   "source": [
    "# A3 Longest common substring\n",
    "\n",
    "1. Download the proteins `3SJU` and `IX7H`.\n",
    "2. Use Shiji's function to find the longest common subsequence.\n",
    "\n",
    "Hint\n",
    "- You need to convert the 3 letter sequence to the 1 letter subsequence to use the function."
   ]
  },
  {
   "cell_type": "markdown",
   "metadata": {
    "slideshow": {
     "slide_type": "fragment"
    }
   },
   "source": [
    "# TODO CONVERT 3 letter to 1 letter\n",
    "\n",
    "# TODO explain longest common subsequence"
   ]
  },
  {
   "cell_type": "code",
   "execution_count": null,
   "metadata": {},
   "outputs": [],
   "source": []
  }
 ],
 "metadata": {
  "celltoolbar": "Slideshow",
  "kernelspec": {
   "display_name": "learnpy_kernel",
   "language": "python",
   "name": "learnpy_kernel"
  },
  "language_info": {
   "codemirror_mode": {
    "name": "ipython",
    "version": 3
   },
   "file_extension": ".py",
   "mimetype": "text/x-python",
   "name": "python",
   "nbconvert_exporter": "python",
   "pygments_lexer": "ipython3",
   "version": "3.7.3"
  }
 },
 "nbformat": 4,
 "nbformat_minor": 2
}
